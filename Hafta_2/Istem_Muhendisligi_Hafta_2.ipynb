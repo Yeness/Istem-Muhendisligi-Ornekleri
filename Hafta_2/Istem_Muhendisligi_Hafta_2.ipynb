{
  "nbformat": 4,
  "nbformat_minor": 0,
  "metadata": {
    "colab": {
      "provenance": [],
      "gpuType": "T4"
    },
    "kernelspec": {
      "name": "python3",
      "display_name": "Python 3"
    },
    "language_info": {
      "name": "python"
    },
    "accelerator": "GPU"
  },
  "cells": [
    {
      "cell_type": "markdown",
      "source": [
        "## Ek Linkler"
      ],
      "metadata": {
        "id": "ofHFJqWepHg9"
      }
    },
    {
      "cell_type": "markdown",
      "source": [
        "1.   https://huggingface.co\n",
        "2.   https://bbycroft.net/llm\n",
        "3.   https://tiktokenizer.vercel.app/?model=cl100k_base\n"
      ],
      "metadata": {
        "id": "fxlG46ZSpK68"
      }
    },
    {
      "cell_type": "markdown",
      "source": [
        "##Kütüphanelerin eklenmesi"
      ],
      "metadata": {
        "id": "GMeS0dwpcZTI"
      }
    },
    {
      "cell_type": "markdown",
      "source": [
        "PyTorch -> Derin öğrenmenin beynidir - LLM'lerin eğitimi, ince ayarı ve tahmin üretim işlemlerini yapmamıza olanak sağlar"
      ],
      "metadata": {
        "id": "TEoyiPUocnH3"
      }
    },
    {
      "cell_type": "code",
      "execution_count": null,
      "metadata": {
        "id": "Mjl85vUnTAJH"
      },
      "outputs": [],
      "source": [
        "!pip install torch -Uq"
      ]
    },
    {
      "cell_type": "markdown",
      "source": [
        "transformers -> LLM'ler ile iletişimimizi sağlar - Genel olarak işlemleri buradan kullanacağız - HuggingFace"
      ],
      "metadata": {
        "id": "9qPrIDQ7oy0c"
      }
    },
    {
      "cell_type": "code",
      "source": [
        "!pip install transformers -Uq"
      ],
      "metadata": {
        "id": "-N0dka5xcQpn"
      },
      "execution_count": null,
      "outputs": []
    },
    {
      "cell_type": "markdown",
      "source": [
        "tiktoken -> LLM'lerin Kelimeleri nasıl gördüğünü söyler - Metnin kaç token içerdiğini gösterir"
      ],
      "metadata": {
        "id": "2vD-UOiKo410"
      }
    },
    {
      "cell_type": "code",
      "source": [
        "!pip install tiktoken -Uq"
      ],
      "metadata": {
        "id": "Tal0goPRcRy3"
      },
      "execution_count": null,
      "outputs": []
    },
    {
      "cell_type": "markdown",
      "source": [
        "datasets -> LLM'lerin besin kaynağı - Veriyi parçalama ve filtreleme gibi işlemlerde kullanılır"
      ],
      "metadata": {
        "id": "20_-odcoo6OU"
      }
    },
    {
      "cell_type": "code",
      "source": [
        "!pip install datasets -Uq"
      ],
      "metadata": {
        "id": "0bDVmyZRcT0n"
      },
      "execution_count": null,
      "outputs": []
    },
    {
      "cell_type": "markdown",
      "source": [
        "matplotlib -> Modelin görsel olarak izlediğimiz kütüphane - kayıp, doğruluk ve grafikler için kullanıyoruz"
      ],
      "metadata": {
        "id": "vWR914Ivo84E"
      }
    },
    {
      "cell_type": "code",
      "source": [
        "!pip install matplotlib -Uq"
      ],
      "metadata": {
        "id": "0GFfTKwZcWGf"
      },
      "execution_count": null,
      "outputs": []
    },
    {
      "cell_type": "markdown",
      "source": [
        "##Basit Tokenize İşlemi"
      ],
      "metadata": {
        "id": "Y_73GONFpj3E"
      }
    },
    {
      "cell_type": "markdown",
      "source": [
        "Siz bizim çekoslavakyalılaştıramadıklarımızdan mısınız?"
      ],
      "metadata": {
        "id": "YGzSanWHCZpf"
      }
    },
    {
      "cell_type": "code",
      "source": [
        "text1 = \"The cat chased the dog\"\n",
        "text2 = \"The dog chased the cat\"\n",
        "\n",
        "text = \"The capital of France is\""
      ],
      "metadata": {
        "id": "Lr7Y91vBpl3E"
      },
      "execution_count": null,
      "outputs": []
    },
    {
      "cell_type": "code",
      "source": [
        "text1"
      ],
      "metadata": {
        "id": "Zxw40VU7pn9s"
      },
      "execution_count": null,
      "outputs": []
    },
    {
      "cell_type": "code",
      "source": [
        "text2"
      ],
      "metadata": {
        "id": "MmuyJIHEpppN"
      },
      "execution_count": null,
      "outputs": []
    },
    {
      "cell_type": "code",
      "source": [
        "text"
      ],
      "metadata": {
        "id": "iRI4yb-Hpq9c"
      },
      "execution_count": null,
      "outputs": []
    },
    {
      "cell_type": "code",
      "source": [
        "def tokenize(text):\n",
        "  return text.split()"
      ],
      "metadata": {
        "id": "9jIuWrTtpzZM"
      },
      "execution_count": null,
      "outputs": []
    },
    {
      "cell_type": "code",
      "source": [
        "tokenize(text1)"
      ],
      "metadata": {
        "id": "jMJXC87Orcl8"
      },
      "execution_count": null,
      "outputs": []
    },
    {
      "cell_type": "markdown",
      "source": [
        "##Tokenizer Yükleme"
      ],
      "metadata": {
        "id": "Jy2GcxQQrsQB"
      }
    },
    {
      "cell_type": "code",
      "source": [
        "import json"
      ],
      "metadata": {
        "id": "HLzKZY7qrgKE"
      },
      "execution_count": null,
      "outputs": []
    },
    {
      "cell_type": "code",
      "source": [
        "with open(\"tokenizer.json\", \"r\") as f:\n",
        "  vocab = json.load(f)"
      ],
      "metadata": {
        "id": "-sng_TfrsqM0"
      },
      "execution_count": null,
      "outputs": []
    },
    {
      "cell_type": "code",
      "source": [
        "#{\n",
        "#    \"The\": 0,\n",
        "#    \"cat\": 1,\n",
        "#    \"dog\": 2,\n",
        "#    \"chased\": 3,\n",
        "#    \"capital\": 4,\n",
        "#    \"of\": 5,\n",
        "#    \"France\": 6,\n",
        "#    \"is\": 7,\n",
        "#    \"<unk>\": 8,\n",
        "#    \"the\" : 9\n",
        "# }"
      ],
      "metadata": {
        "id": "Iwbb28H8s_yk"
      },
      "execution_count": null,
      "outputs": []
    },
    {
      "cell_type": "markdown",
      "source": [
        "##Orta Seviye Tokenize İşlemi\n"
      ],
      "metadata": {
        "id": "Sciq9Qv-1Q0a"
      }
    },
    {
      "cell_type": "markdown",
      "source": [
        "1. Aynı şekilde kelimelere böl\n",
        "2. boş liste oluştur\n",
        "3. Parçalar içinde parça döngüsü oluştur\n",
        "4. Eğer kelime sözlükte varsa ID'sini al\n",
        "5. Yoksa bilinmeyen token ID'sı yükle\n",
        "6. Bu id'yi listeye ekle"
      ],
      "metadata": {
        "id": "Naco-0uM4F0h"
      }
    },
    {
      "cell_type": "code",
      "source": [
        "def tokenize2(text):\n",
        "  parts = text.split()\n",
        "  ids = []\n",
        "  for part in parts:\n",
        "    if part in vocab:\n",
        "      value = vocab[part]\n",
        "    else:\n",
        "      value = vocab[\"<unk>\"]\n",
        "    ids.append(value)\n",
        "  return ids"
      ],
      "metadata": {
        "id": "ayDoC0a71Veq"
      },
      "execution_count": null,
      "outputs": []
    },
    {
      "cell_type": "code",
      "source": [
        "token_ids1 = tokenize2(text1)"
      ],
      "metadata": {
        "id": "Q49KBjYu40aZ"
      },
      "execution_count": null,
      "outputs": []
    },
    {
      "cell_type": "code",
      "source": [
        "token_ids1"
      ],
      "metadata": {
        "id": "sgKPArq75hIB"
      },
      "execution_count": null,
      "outputs": []
    },
    {
      "cell_type": "code",
      "source": [
        "tokenize2(\"Naber dostum\")"
      ],
      "metadata": {
        "id": "qmmzo_R555Bh"
      },
      "execution_count": null,
      "outputs": []
    },
    {
      "cell_type": "markdown",
      "source": [
        "###Detokenize"
      ],
      "metadata": {
        "id": "1lb4ZhTt6CVZ"
      }
    },
    {
      "cell_type": "code",
      "source": [
        "reverse_vocab = {id: part for part, id in vocab.items()}"
      ],
      "metadata": {
        "id": "m5en1Z7z59fh"
      },
      "execution_count": null,
      "outputs": []
    },
    {
      "cell_type": "code",
      "source": [
        "reverse_vocab"
      ],
      "metadata": {
        "id": "supwLrbm5_TB"
      },
      "execution_count": null,
      "outputs": []
    },
    {
      "cell_type": "markdown",
      "source": [
        "1. Boş bir String tanımla\n",
        "2. Id'leri dolaş\n",
        "3. Id'ye karşılık gelen kelimeyi bul\n",
        "4. Kelimeyi metne ekle + boşluk\n",
        "5. En sondaki boşluğu sil"
      ],
      "metadata": {
        "id": "KFRj18us7v0p"
      }
    },
    {
      "cell_type": "code",
      "source": [
        "def detokenize(ids):\n",
        "  text = \"\"\n",
        "  for id in ids:\n",
        "    part = reverse_vocab[id]\n",
        "    text += part + \" \"\n",
        "  text = text.strip()\n",
        "  return text"
      ],
      "metadata": {
        "id": "THT8_Ewa7rex"
      },
      "execution_count": null,
      "outputs": []
    },
    {
      "cell_type": "code",
      "source": [
        "token_ids1"
      ],
      "metadata": {
        "id": "U5ZJ3PfP8PZB"
      },
      "execution_count": null,
      "outputs": []
    },
    {
      "cell_type": "code",
      "source": [
        "detokenize(token_ids1)"
      ],
      "metadata": {
        "id": "uk__k0hJ8NAJ"
      },
      "execution_count": null,
      "outputs": []
    },
    {
      "cell_type": "markdown",
      "source": [
        "##Token Çekme"
      ],
      "metadata": {
        "id": "Xg_lBVcg-bSY"
      }
    },
    {
      "cell_type": "code",
      "source": [
        "import tiktoken"
      ],
      "metadata": {
        "id": "YfW3Rj26-eJI"
      },
      "execution_count": null,
      "outputs": []
    },
    {
      "cell_type": "code",
      "source": [
        "enc = tiktoken.get_encoding(\"o200k_base\")"
      ],
      "metadata": {
        "id": "LYvuC6tA-fvY"
      },
      "execution_count": null,
      "outputs": []
    },
    {
      "cell_type": "code",
      "source": [
        "token_ids2 = enc.encode(text1)"
      ],
      "metadata": {
        "id": "Zl1ZP9vX-kcA"
      },
      "execution_count": null,
      "outputs": []
    },
    {
      "cell_type": "code",
      "source": [
        "token_ids2"
      ],
      "metadata": {
        "id": "U5ULtoBr-lUY"
      },
      "execution_count": null,
      "outputs": []
    },
    {
      "cell_type": "code",
      "source": [
        "enc.decode(token_ids2)"
      ],
      "metadata": {
        "id": "xsCcLvu8-nuI"
      },
      "execution_count": null,
      "outputs": []
    },
    {
      "cell_type": "code",
      "source": [
        "texttek = \"Bir pirinci birinci buluşta bir inci gibi birbirine bağlayıp, Perlepe berberi bastıbacak Bedri ile beraber Balıkesir pazarına parasız giden bu paytak budala, babası topal Badi´den biberli bir papara yedi\""
      ],
      "metadata": {
        "id": "bui86-5D-rIY"
      },
      "execution_count": null,
      "outputs": []
    },
    {
      "cell_type": "code",
      "source": [
        "token_ids3 = enc.encode(texttek)"
      ],
      "metadata": {
        "id": "67shCHQc-yDw"
      },
      "execution_count": null,
      "outputs": []
    },
    {
      "cell_type": "code",
      "source": [
        "token_ids3"
      ],
      "metadata": {
        "id": "d55uQUXr-1-4"
      },
      "execution_count": null,
      "outputs": []
    },
    {
      "cell_type": "code",
      "source": [
        "enc.decode(token_ids3)"
      ],
      "metadata": {
        "id": "T2f5MFZ9-30o"
      },
      "execution_count": null,
      "outputs": []
    }
  ]
}