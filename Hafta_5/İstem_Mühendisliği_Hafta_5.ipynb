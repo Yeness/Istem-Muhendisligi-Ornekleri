{
  "nbformat": 4,
  "nbformat_minor": 0,
  "metadata": {
    "colab": {
      "provenance": [],
      "gpuType": "T4"
    },
    "kernelspec": {
      "name": "python3",
      "display_name": "Python 3"
    },
    "language_info": {
      "name": "python"
    },
    "accelerator": "GPU"
  },
  "cells": [
    {
      "cell_type": "code",
      "source": [
        "!pip install torch -Uq"
      ],
      "metadata": {
        "id": "TMtz7Fpb0X_w"
      },
      "execution_count": null,
      "outputs": []
    },
    {
      "cell_type": "code",
      "source": [
        "!pip install transformers -Uq"
      ],
      "metadata": {
        "id": "QLN6Hr8m0cXQ"
      },
      "execution_count": null,
      "outputs": []
    },
    {
      "cell_type": "code",
      "source": [
        "!pip install tiktoken -Uq"
      ],
      "metadata": {
        "id": "2md39Y3c0cpg"
      },
      "execution_count": null,
      "outputs": []
    },
    {
      "cell_type": "code",
      "source": [
        "!pip install datasets -Uq"
      ],
      "metadata": {
        "id": "pH-XeWu-0dQI"
      },
      "execution_count": null,
      "outputs": []
    },
    {
      "cell_type": "code",
      "source": [
        "!pip install matplotlib -Uq"
      ],
      "metadata": {
        "id": "ze-qSwpN0d2g"
      },
      "execution_count": null,
      "outputs": []
    },
    {
      "cell_type": "code",
      "source": [
        "import json\n",
        "\n",
        "class Tokenizer:\n",
        "  def __init__(self, vocab_path):\n",
        "    with open(vocab_path, \"r\", encoding=\"utf-8\") as f:\n",
        "      self.vocab = json.load(f)\n",
        "      self.reverse_vocab = {v: k for k, v in self.vocab.items()}\n",
        "\n",
        "  def encode(self, text):\n",
        "    tokens = []\n",
        "\n",
        "    for word in text.split():\n",
        "      i = 0\n",
        "      while i < len(word):\n",
        "        found_match = False\n",
        "        for j in range(len(word), i, -1):\n",
        "          subword = word[i:j]\n",
        "          if subword in self.vocab:\n",
        "            tokens.append(self.vocab[subword])\n",
        "            i = j\n",
        "            found_match = True\n",
        "            break\n",
        "        if not found_match:\n",
        "          tokens.append(self.vocab.get(\"<unk>\", 0))\n",
        "          i += 1\n",
        "      tokens.append(self.vocab.get(\" \", 1))\n",
        "    if tokens:\n",
        "      tokens.pop()\n",
        "    return tokens\n",
        "\n",
        "  def tokenize(self, text):\n",
        "    token_ids = self.encode(text)\n",
        "    return [self.reverse_vocab[id] for id in token_ids]\n",
        "\n",
        "  def decode(self, ids):\n",
        "    text = \"\"\n",
        "    for id in ids:\n",
        "      text += self.reverse_vocab.get(id, \"<unk>\")\n",
        "    return text"
      ],
      "metadata": {
        "id": "Gt1FiKC7jJlX"
      },
      "execution_count": null,
      "outputs": []
    },
    {
      "cell_type": "code",
      "source": [
        "tokenizer = Tokenizer(\"tokenizer_1.json\")"
      ],
      "metadata": {
        "id": "Tw8HIpIpjThq"
      },
      "execution_count": null,
      "outputs": []
    },
    {
      "cell_type": "code",
      "source": [
        "import plotly.graph_objects as go\n",
        "import plotly.offline"
      ],
      "metadata": {
        "id": "wbjNpiYxqw4m"
      },
      "execution_count": null,
      "outputs": []
    },
    {
      "cell_type": "code",
      "source": [
        "def plot_dots(sentences_data, title, dims=[0, 1, 2]):\n",
        "  data = [\n",
        "    go.Scatter3d(\n",
        "      x=sentence_data[\"words\"][:, dims[0]],\n",
        "      y=sentence_data[\"words\"][:, dims[1]],\n",
        "      z=sentence_data[\"words\"][:, dims[2]],\n",
        "      mode=\"markers+text\",\n",
        "      marker=dict(\n",
        "        size=6,\n",
        "        color=sentence_data[\"color\"],\n",
        "      ),\n",
        "      text=sentence_data[\"labels\"],\n",
        "      hoverinfo=\"text\",\n",
        "    ) for sentence_data in sentences_data\n",
        "  ]\n",
        "\n",
        "  layout = go.Layout(\n",
        "    scene=dict(\n",
        "      xaxis_title=\"Sertlik\",\n",
        "      yaxis_title=\"Parlaklık\",\n",
        "      zaxis_title=\"Kırmızılık\",\n",
        "    ),\n",
        "    title=title,\n",
        "  )\n",
        "\n",
        "  fig = go.Figure(data=data, layout=layout)\n",
        "  plotly.offline.iplot(fig)"
      ],
      "metadata": {
        "id": "9Dd15E5Fqt9-"
      },
      "execution_count": null,
      "outputs": []
    },
    {
      "cell_type": "code",
      "source": [
        "data = \"the capital of the united states\"\n",
        "target = \"capital of the united stetes is\""
      ],
      "metadata": {
        "id": "Wb1CIk6DjMAG"
      },
      "execution_count": null,
      "outputs": []
    },
    {
      "cell_type": "code",
      "source": [
        "ids = tokenizer.encode(data)\n",
        "\n",
        "len(ids), ids"
      ],
      "metadata": {
        "colab": {
          "base_uri": "https://localhost:8080/"
        },
        "id": "NW1PzQDejRrO",
        "outputId": "9b64bfd4-f83c-4e63-d56a-977abf11b543"
      },
      "execution_count": null,
      "outputs": [
        {
          "output_type": "execute_result",
          "data": {
            "text/plain": [
              "(12, [0, 61, 1, 61, 2, 61, 0, 61, 3, 61, 4, 58])"
            ]
          },
          "metadata": {},
          "execution_count": 9
        }
      ]
    },
    {
      "cell_type": "code",
      "source": [
        "ids_t = tokenizer.encode(target)\n",
        "\n",
        "len(ids_t), ids_t"
      ],
      "metadata": {
        "colab": {
          "base_uri": "https://localhost:8080/"
        },
        "id": "N4WEXuwnjnVD",
        "outputId": "723b8ca5-73e5-4149-df94-3c7e71e6f854"
      },
      "execution_count": null,
      "outputs": [
        {
          "output_type": "execute_result",
          "data": {
            "text/plain": [
              "(16, [1, 61, 2, 61, 0, 61, 3, 61, 58, 62, 62, 62, 62, 58, 61, 5])"
            ]
          },
          "metadata": {},
          "execution_count": 10
        }
      ]
    },
    {
      "cell_type": "markdown",
      "source": [
        "Context length, bir dil modelinin aynı anda işleyebildiği en uzun giriş + çıkış token toplamıdır."
      ],
      "metadata": {
        "id": "D0gWxZSIkcdZ"
      }
    },
    {
      "cell_type": "code",
      "source": [
        "context_length = 32 #Gpt-4o 128k"
      ],
      "metadata": {
        "id": "nDrdCT9wjBoE"
      },
      "execution_count": null,
      "outputs": []
    },
    {
      "cell_type": "markdown",
      "source": [
        "Eğer Context length dolmazsa sonu \"<<c>ped>\" ile doldurulur"
      ],
      "metadata": {
        "id": "DfoH8JMDkhyh"
      }
    },
    {
      "cell_type": "markdown",
      "source": [
        "##Basit Positional Embeding"
      ],
      "metadata": {
        "id": "13rCj3VZl-hR"
      }
    },
    {
      "cell_type": "code",
      "source": [
        "import torch"
      ],
      "metadata": {
        "id": "mnFIYYCFpL4A"
      },
      "execution_count": null,
      "outputs": []
    },
    {
      "cell_type": "code",
      "source": [
        "sentence = \"the capital of united states and the capital of france\""
      ],
      "metadata": {
        "id": "mzlmyn6Dl6eo"
      },
      "execution_count": null,
      "outputs": []
    },
    {
      "cell_type": "code",
      "source": [
        "torch.manual_seed(42) #embedding değerleri her seferinde aynı olacak"
      ],
      "metadata": {
        "id": "sb-4a1o6paxZ"
      },
      "execution_count": null,
      "outputs": []
    },
    {
      "cell_type": "code",
      "source": [
        "embeddings = torch.nn.Embedding(num_embeddings=64, embedding_dim=4)"
      ],
      "metadata": {
        "id": "yTWo2rs0qAaq"
      },
      "execution_count": null,
      "outputs": []
    },
    {
      "cell_type": "code",
      "source": [
        "embeddings"
      ],
      "metadata": {
        "id": "wh7kf2rwqBVu"
      },
      "execution_count": null,
      "outputs": []
    },
    {
      "cell_type": "code",
      "source": [
        "pos_embeddings = torch.nn.Embedding(num_embeddings=context_length, embedding_dim=4) #konum için dimlik değerler"
      ],
      "metadata": {
        "id": "3Iy2Cyv7phuF"
      },
      "execution_count": null,
      "outputs": []
    },
    {
      "cell_type": "code",
      "source": [
        "pos_embeddings"
      ],
      "metadata": {
        "id": "HbxIthZbqCS5"
      },
      "execution_count": null,
      "outputs": []
    },
    {
      "cell_type": "code",
      "source": [
        "tokens = tokenizer.encode(sentence)"
      ],
      "metadata": {
        "id": "nCYat75XomlE"
      },
      "execution_count": null,
      "outputs": []
    },
    {
      "cell_type": "code",
      "source": [
        "tokens = torch.tensor(tokens)"
      ],
      "metadata": {
        "id": "cqHX1PDOnPCp"
      },
      "execution_count": null,
      "outputs": []
    },
    {
      "cell_type": "code",
      "source": [
        "tokens"
      ],
      "metadata": {
        "id": "BFuxEv9Koo9h"
      },
      "execution_count": null,
      "outputs": []
    },
    {
      "cell_type": "code",
      "source": [
        "meanings = embeddings(torch.tensor(tokens)) #Her kelimenin ID'sine karşılık anlam vektörü"
      ],
      "metadata": {
        "id": "ukpx0v_5mTzJ"
      },
      "execution_count": null,
      "outputs": []
    },
    {
      "cell_type": "code",
      "source": [
        "meanings.shape"
      ],
      "metadata": {
        "id": "qgoCEE12qPRq"
      },
      "execution_count": null,
      "outputs": []
    },
    {
      "cell_type": "code",
      "source": [
        "pos_meanings = pos_embeddings(torch.tensor([i for i in range(tokens.shape[0])]))"
      ],
      "metadata": {
        "id": "GNndl05LqYth"
      },
      "execution_count": null,
      "outputs": []
    },
    {
      "cell_type": "code",
      "source": [
        "pos_meanings.shape"
      ],
      "metadata": {
        "id": "UiHZUTtjqZ9p"
      },
      "execution_count": null,
      "outputs": []
    },
    {
      "cell_type": "code",
      "source": [
        "pos_meanings"
      ],
      "metadata": {
        "id": "DR3w12qmqaeE"
      },
      "execution_count": null,
      "outputs": []
    },
    {
      "cell_type": "code",
      "source": [
        "meanings_in_context = meanings + pos_meanings"
      ],
      "metadata": {
        "id": "3Qx0KM8_qgk-"
      },
      "execution_count": null,
      "outputs": []
    },
    {
      "cell_type": "code",
      "source": [
        "meanings_in_context.shape"
      ],
      "metadata": {
        "id": "CMpWPpPHqiGs"
      },
      "execution_count": null,
      "outputs": []
    },
    {
      "cell_type": "code",
      "source": [
        "sentences = [\n",
        "  {\n",
        "    \"words\": meanings_in_context.detach().numpy(),\n",
        "    \"labels\": tokenizer.tokenize(sentence),\n",
        "    \"color\": \"red\",\n",
        "  },\n",
        "]\n",
        "plot_dots(sentences, \"Basic Positional Embeding\")"
      ],
      "metadata": {
        "id": "14m4a7TdqiyW"
      },
      "execution_count": null,
      "outputs": []
    },
    {
      "cell_type": "markdown",
      "source": [
        "kelime embedding’i ‘ne’ olduğunu, positional embedding ‘nerede’ olduğunu söyler; ikisini toplayınca model hem anlamı hem sırayı aynı vektörde görür"
      ],
      "metadata": {
        "id": "LMqr1cytHrjp"
      }
    },
    {
      "cell_type": "markdown",
      "source": [
        "##Sinusoidal Positional Encoding"
      ],
      "metadata": {
        "id": "CDBVdFMSsybu"
      }
    },
    {
      "cell_type": "markdown",
      "source": [
        "\n",
        "\n",
        "*   GPT-2 ve Bertte kullanılan yöntem budur\n",
        "*   Eğitilmesine gerek olmadan daha önce görmediği uzunluktaki cümlelerle de genelleştirilebilir\n",
        "*   Her boyuta \"frekans\" veriyoruz ve böylelikle bazı boyutlar yavaş değişirken bazıları hızlı değişiyor\n",
        "\n",
        "\n",
        "\n"
      ],
      "metadata": {
        "id": "UV07mWo7s637"
      }
    },
    {
      "cell_type": "code",
      "source": [
        "p_embeddings = torch.zeros(context_length, 4, device='cpu') #boş tensor"
      ],
      "metadata": {
        "id": "sq5I24fys0vU"
      },
      "execution_count": null,
      "outputs": []
    },
    {
      "cell_type": "code",
      "source": [
        "p_embeddings"
      ],
      "metadata": {
        "id": "7hpsImb5s24c"
      },
      "execution_count": null,
      "outputs": []
    },
    {
      "cell_type": "code",
      "source": [
        "import math"
      ],
      "metadata": {
        "id": "U0hcShGns3tG"
      },
      "execution_count": null,
      "outputs": []
    },
    {
      "cell_type": "code",
      "source": [
        "def get_position_encoding(context_length, embedding_dim, base=10000, device=\"cpu\"): #base -> Frekans ölçekleme tabanı - sinüs/kosinüs dalgalarının frekansını ayarlar\n",
        "  p_embeddings = torch.zeros(context_length, embedding_dim, device=device)\n",
        "  for pos in range(context_length):\n",
        "    for i in range(embedding_dim // 2):\n",
        "      p_embeddings[pos, 2 * i] = math.sin(pos / (base ** (2 * i / embedding_dim)))\n",
        "      if i + 1 < embedding_dim:\n",
        "        p_embeddings[pos, 2 * i + 1] = math.cos(pos / (base ** (2 * i / embedding_dim)))\n",
        "\n",
        "  return p_embeddings.unsqueeze(0) # unsqueeze ?"
      ],
      "metadata": {
        "id": "Jvh-gdNjtCIu"
      },
      "execution_count": null,
      "outputs": []
    },
    {
      "cell_type": "code",
      "source": [
        "# pos=0: [ sin(0/f0), cos(0/f0), sin(0/f1), cos(0/f1) ] = [0, 1, 0, 1]\n",
        "# pos=1: [ sin(1/f0), cos(1/f0), sin(1/f1), cos(1/f1) ]\n",
        "# pos=2: [ sin(2/f0), cos(2/f0), sin(2/f1), cos(2/f1) ]"
      ],
      "metadata": {
        "id": "Beova2xmA0NH"
      },
      "execution_count": null,
      "outputs": []
    },
    {
      "cell_type": "code",
      "source": [
        "pos_embeddings = get_position_encoding(context_length, 4)"
      ],
      "metadata": {
        "id": "PxkkPiVetE3_"
      },
      "execution_count": null,
      "outputs": []
    },
    {
      "cell_type": "code",
      "source": [
        "pos_embeddings.shape"
      ],
      "metadata": {
        "id": "-4BDQJkPtGGc"
      },
      "execution_count": null,
      "outputs": []
    },
    {
      "cell_type": "code",
      "source": [
        "pos_embeddings"
      ],
      "metadata": {
        "id": "-adhI-kttIWJ"
      },
      "execution_count": null,
      "outputs": []
    },
    {
      "cell_type": "code",
      "source": [
        "pos_embeddings = get_position_encoding(20, 4)"
      ],
      "metadata": {
        "id": "oYsS1vbWtKCZ"
      },
      "execution_count": null,
      "outputs": []
    },
    {
      "cell_type": "code",
      "source": [
        "meanings_in_sentence = meanings + pos_embeddings"
      ],
      "metadata": {
        "id": "eLjl-0cCtNIl"
      },
      "execution_count": null,
      "outputs": []
    },
    {
      "cell_type": "code",
      "source": [
        "meanings_in_sentence"
      ],
      "metadata": {
        "id": "Rj8JdAlatPQv"
      },
      "execution_count": null,
      "outputs": []
    },
    {
      "cell_type": "code",
      "source": [
        "sentences = [\n",
        "  {\n",
        "    \"words\": meanings_in_sentence[0].detach().numpy(),\n",
        "    \"labels\": tokenizer.tokenize(sentence),\n",
        "    \"color\": \"red\",\n",
        "  },\n",
        "  {\n",
        "    \"words\": meanings.detach().numpy(),\n",
        "    \"labels\": tokenizer.tokenize(sentence),\n",
        "    \"color\": \"blue\",\n",
        "  },\n",
        "]\n",
        "plot_dots(sentences, \"Sentence Context Space\")"
      ],
      "metadata": {
        "id": "p0VXPABitRzK"
      },
      "execution_count": null,
      "outputs": []
    },
    {
      "cell_type": "markdown",
      "source": [
        "*   Böylelikle kelimelerin cümle içindeki anlamlarını bulmuş olduk\n",
        "*   Kelimeler sözlükte yakın olmasalar bile aynı cümlede olmalarıyla birlikte anlamsal olarak yakın olabilirler"
      ],
      "metadata": {
        "id": "jhsKKlFItY2i"
      }
    },
    {
      "cell_type": "markdown",
      "source": [
        "##Rotary Position Encoding (RoPE)"
      ],
      "metadata": {
        "id": "RxYt8-cotbi2"
      }
    },
    {
      "cell_type": "markdown",
      "source": [
        "*   DeepSeek en son bunu kullandı\n",
        "*   Hem kelimelerin cümle içindeki sırası hem de birbirlerine olan uzaklığını hesaplayan bir yöntem\n",
        "*   Vektörlerin açısını değiştireceğiz"
      ],
      "metadata": {
        "id": "sMIJpvYxtekP"
      }
    },
    {
      "cell_type": "code",
      "source": [
        "freqs_indices = torch.arange(0, 20, dtype=torch.float32)"
      ],
      "metadata": {
        "id": "X564uAO0t7Pj"
      },
      "execution_count": null,
      "outputs": []
    },
    {
      "cell_type": "code",
      "source": [
        "freqs_indices"
      ],
      "metadata": {
        "id": "P8dXAxiAt8bB"
      },
      "execution_count": null,
      "outputs": []
    },
    {
      "cell_type": "code",
      "source": [
        "freqs = 1.0 / (10000 ** (freqs_indices / 20)) #düşük i yavaş değişim - yüksek i hızlı değişim"
      ],
      "metadata": {
        "id": "2XTbgEkkt9im"
      },
      "execution_count": null,
      "outputs": []
    },
    {
      "cell_type": "markdown",
      "source": [
        "*   düşük i → yavaş değişen dalga, uzak ilişkiler\n",
        "*   yüksek i → hızlı değişen dalga, yakın ilişkiler"
      ],
      "metadata": {
        "id": "OB70NzIGKpLp"
      }
    },
    {
      "cell_type": "code",
      "source": [
        "freqs.unsqueeze(1) #unsqueezesiz dene"
      ],
      "metadata": {
        "id": "GlMHjIfSt_Hv"
      },
      "execution_count": null,
      "outputs": []
    },
    {
      "cell_type": "markdown",
      "source": [
        "Cümlenin başından sonuna doğru önemi azalıyor"
      ],
      "metadata": {
        "id": "EEgDZ2FGuCQH"
      }
    },
    {
      "cell_type": "code",
      "source": [
        "def get_rotary_position_encoding(input: torch.Tensor, base=10000, device=\"cpu\"):\n",
        "  context_length, dimension = input.shape\n",
        "\n",
        "  assert dimension % 2 == 0, \"boyutlar eşit olmalıdır\"\n",
        "\n",
        "  half_dimension = dimension // 2\n",
        "\n",
        "  freqs_indices = torch.arange(0, half_dimension, device=device, dtype=torch.float32)\n",
        "  freqs = 1.0 / (base ** (freqs_indices / dimension))\n",
        "\n",
        "  positions = torch.arange(0, context_length, device=device, dtype=torch.float32).unsqueeze(1)\n",
        "\n",
        "  angles = positions * freqs # Pozisyonlar ile frekansları çarparak her pozisyon ve her boyut için açı hesaplanır\n",
        "\n",
        "  sin_angles = torch.sin(angles)\n",
        "  cos_angles = torch.cos(angles)\n",
        "\n",
        "  input_even = input[:, :dimension // 2] # [0, 2, 4, ..]\n",
        "  input_odd = input[:, dimension // 2:] # [1, 3, 5, ..]\n",
        "\n",
        "  # 2D rotasyon formülü uygulanır:\n",
        "  # [x', y'] = [x*cos - y*sin, x*sin + y*cos]\n",
        "  input_even_rotated = input_even * cos_angles - input_odd * sin_angles\n",
        "  input_odd_rotated = input_even * sin_angles + input_odd * cos_angles\n",
        "\n",
        "  input_rotated = torch.empty_like(input) # Rotasyon sonrası değerleri orijinal tensör boyutunda yeni tensöre yerleştirir\n",
        "\n",
        "  # İlk yarıya döndürülmüş even, ikinci yarıya döndürülmüş odd bileşenler yazılır\n",
        "  input_rotated[:, :dimension // 2] = input_even_rotated\n",
        "  input_rotated[:, dimension // 2:] = input_odd_rotated\n",
        "\n",
        "  return input_rotated"
      ],
      "metadata": {
        "id": "BKjTLCdNuCqn"
      },
      "execution_count": null,
      "outputs": []
    },
    {
      "cell_type": "code",
      "source": [
        "torch.manual_seed(42)"
      ],
      "metadata": {
        "id": "r-N_FkfzuHcw"
      },
      "execution_count": null,
      "outputs": []
    },
    {
      "cell_type": "code",
      "source": [
        "random_input = torch.rand(context_length, 4)"
      ],
      "metadata": {
        "id": "NC_AJ6z0uIgY"
      },
      "execution_count": null,
      "outputs": []
    },
    {
      "cell_type": "code",
      "source": [
        "random_input"
      ],
      "metadata": {
        "id": "7zoqWH0OuJov"
      },
      "execution_count": null,
      "outputs": []
    },
    {
      "cell_type": "code",
      "source": [
        "pos_rotary_encodings = get_rotary_position_encoding(random_input)"
      ],
      "metadata": {
        "id": "6shh93AsuMbT"
      },
      "execution_count": null,
      "outputs": []
    },
    {
      "cell_type": "code",
      "source": [
        "pos_rotary_encodings"
      ],
      "metadata": {
        "id": "oPMQ87I-uNuI"
      },
      "execution_count": null,
      "outputs": []
    },
    {
      "cell_type": "code",
      "source": [
        "meanings_with_pos_encodings = get_rotary_position_encoding(meanings)"
      ],
      "metadata": {
        "id": "U73MmBEzuQFb"
      },
      "execution_count": null,
      "outputs": []
    },
    {
      "cell_type": "code",
      "source": [
        "meanings_with_pos_encodings"
      ],
      "metadata": {
        "id": "ErJesJzMuRI9"
      },
      "execution_count": null,
      "outputs": []
    },
    {
      "cell_type": "code",
      "source": [
        "sentences = [\n",
        "  {\n",
        "    \"words\": meanings_with_pos_encodings.detach().numpy(),\n",
        "    \"labels\": tokenizer.tokenize(sentence),\n",
        "    \"color\": \"red\",\n",
        "  },\n",
        "  {\n",
        "    \"words\": meanings.detach().numpy(),\n",
        "    \"labels\": tokenizer.tokenize(sentence),\n",
        "    \"color\": \"blue\",\n",
        "  },\n",
        "]\n",
        "plot_dots(sentences, \"Sentence Context Space V2 rotary\")"
      ],
      "metadata": {
        "colab": {
          "base_uri": "https://localhost:8080/",
          "height": 542
        },
        "id": "AmcuyXpeuSyJ",
        "outputId": "671603a9-a2b0-4bfe-d1d3-741f91ed0073"
      },
      "execution_count": null,
      "outputs": [
        {
          "output_type": "display_data",
          "data": {
            "text/html": [
              "<html>\n",
              "<head><meta charset=\"utf-8\" /></head>\n",
              "<body>\n",
              "    <div>            <script src=\"https://cdnjs.cloudflare.com/ajax/libs/mathjax/2.7.5/MathJax.js?config=TeX-AMS-MML_SVG\"></script><script type=\"text/javascript\">if (window.MathJax && window.MathJax.Hub && window.MathJax.Hub.Config) {window.MathJax.Hub.Config({SVG: {font: \"STIX-Web\"}});}</script>                <script type=\"text/javascript\">window.PlotlyConfig = {MathJaxConfig: 'local'};</script>\n",
              "        <script charset=\"utf-8\" src=\"https://cdn.plot.ly/plotly-2.35.2.min.js\"></script>                <div id=\"8053fc5e-37fd-4abd-a5b0-6564d615cf45\" class=\"plotly-graph-div\" style=\"height:525px; width:100%;\"></div>            <script type=\"text/javascript\">                                    window.PLOTLYENV=window.PLOTLYENV || {};                                    if (document.getElementById(\"8053fc5e-37fd-4abd-a5b0-6564d615cf45\")) {                    Plotly.newPlot(                        \"8053fc5e-37fd-4abd-a5b0-6564d615cf45\",                        [{\"hoverinfo\":\"text\",\"marker\":{\"color\":\"red\",\"size\":6},\"mode\":\"markers+text\",\"text\":[\"the\",\" \",\"capital\",\" \",\"of\",\" \",\"united\",\" \",\"state\",\"s\",\" \",\"and\",\" \",\"the\",\" \",\"capital\",\" \",\"of\",\" \",\"france\"],\"x\":[1.9311606,0.35851282,-0.53874373,-0.31365764,-2.1127772,-0.09745757,-0.5522554,0.39477095,-1.4604453,-1.7430078,-0.4011913,1.2817243,0.18245381,2.355956,0.24933615,-0.32242617,-0.3899747,-2.0501976,0.075237334,-1.8828117],\"y\":[1.0118638,0.57084286,1.4883758,0.41124004,-0.34328222,0.23524234,0.49307173,0.04986635,-0.3728398,1.1910506,-0.22958592,0.5670627,-0.40598336,1.359358,-0.56619537,-0.45887735,-0.70383507,-0.92011315,-0.81341505,0.25347635],\"z\":[-1.4364065,0.1808689,-0.39616415,0.25072676,0.31645685,-0.38954723,-0.55442476,0.07349092,-1.1979166,0.75756043,-0.017045379,1.6078486,-0.35770884,-0.4920525,0.31476417,-0.58586025,0.095732614,-0.6005515,-0.3944418,-0.260271],\"type\":\"scatter3d\"},{\"hoverinfo\":\"text\",\"marker\":{\"color\":\"blue\",\"size\":6},\"mode\":\"markers+text\",\"text\":[\"the\",\" \",\"capital\",\" \",\"of\",\" \",\"united\",\" \",\"state\",\"s\",\" \",\"and\",\" \",\"the\",\" \",\"capital\",\" \",\"of\",\" \",\"france\"],\"x\":[1.9311606,0.34590125,-0.13603453,0.34590125,1.141508,0.34590125,-0.37534437,0.34590125,-0.9726739,1.9003118,0.34590125,-1.6021603,0.34590125,1.9311606,0.34590125,-0.13603453,0.34590125,1.141508,0.34590125,-1.9005532],\"y\":[1.0118638,0.6424751,1.6354096,0.6424751,0.018564576,0.6424751,1.0330874,0.6424751,0.95845777,1.6950805,0.6424751,1.3528969,0.6424751,1.0118638,0.6424751,1.6354096,0.6424751,0.018564576,0.6424751,0.22857653],\"z\":[-1.4364065,-0.20395425,0.65474075,-0.20395425,-1.8058051,-0.20395425,-0.68665093,-0.20395425,1.6192005,0.028089529,-0.20395425,1.2888277,-0.20395425,-1.4364065,-0.20395425,0.65474075,-0.20395425,-1.8058051,-0.20395425,0.024859404],\"type\":\"scatter3d\"}],                        {\"scene\":{\"xaxis\":{\"title\":{\"text\":\"Sertlik\"}},\"yaxis\":{\"title\":{\"text\":\"Parlaklık\"}},\"zaxis\":{\"title\":{\"text\":\"Kırmızılık\"}}},\"template\":{\"data\":{\"barpolar\":[{\"marker\":{\"line\":{\"color\":\"#E5ECF6\",\"width\":0.5},\"pattern\":{\"fillmode\":\"overlay\",\"size\":10,\"solidity\":0.2}},\"type\":\"barpolar\"}],\"bar\":[{\"error_x\":{\"color\":\"#2a3f5f\"},\"error_y\":{\"color\":\"#2a3f5f\"},\"marker\":{\"line\":{\"color\":\"#E5ECF6\",\"width\":0.5},\"pattern\":{\"fillmode\":\"overlay\",\"size\":10,\"solidity\":0.2}},\"type\":\"bar\"}],\"carpet\":[{\"aaxis\":{\"endlinecolor\":\"#2a3f5f\",\"gridcolor\":\"white\",\"linecolor\":\"white\",\"minorgridcolor\":\"white\",\"startlinecolor\":\"#2a3f5f\"},\"baxis\":{\"endlinecolor\":\"#2a3f5f\",\"gridcolor\":\"white\",\"linecolor\":\"white\",\"minorgridcolor\":\"white\",\"startlinecolor\":\"#2a3f5f\"},\"type\":\"carpet\"}],\"choropleth\":[{\"colorbar\":{\"outlinewidth\":0,\"ticks\":\"\"},\"type\":\"choropleth\"}],\"contourcarpet\":[{\"colorbar\":{\"outlinewidth\":0,\"ticks\":\"\"},\"type\":\"contourcarpet\"}],\"contour\":[{\"colorbar\":{\"outlinewidth\":0,\"ticks\":\"\"},\"colorscale\":[[0.0,\"#0d0887\"],[0.1111111111111111,\"#46039f\"],[0.2222222222222222,\"#7201a8\"],[0.3333333333333333,\"#9c179e\"],[0.4444444444444444,\"#bd3786\"],[0.5555555555555556,\"#d8576b\"],[0.6666666666666666,\"#ed7953\"],[0.7777777777777778,\"#fb9f3a\"],[0.8888888888888888,\"#fdca26\"],[1.0,\"#f0f921\"]],\"type\":\"contour\"}],\"heatmapgl\":[{\"colorbar\":{\"outlinewidth\":0,\"ticks\":\"\"},\"colorscale\":[[0.0,\"#0d0887\"],[0.1111111111111111,\"#46039f\"],[0.2222222222222222,\"#7201a8\"],[0.3333333333333333,\"#9c179e\"],[0.4444444444444444,\"#bd3786\"],[0.5555555555555556,\"#d8576b\"],[0.6666666666666666,\"#ed7953\"],[0.7777777777777778,\"#fb9f3a\"],[0.8888888888888888,\"#fdca26\"],[1.0,\"#f0f921\"]],\"type\":\"heatmapgl\"}],\"heatmap\":[{\"colorbar\":{\"outlinewidth\":0,\"ticks\":\"\"},\"colorscale\":[[0.0,\"#0d0887\"],[0.1111111111111111,\"#46039f\"],[0.2222222222222222,\"#7201a8\"],[0.3333333333333333,\"#9c179e\"],[0.4444444444444444,\"#bd3786\"],[0.5555555555555556,\"#d8576b\"],[0.6666666666666666,\"#ed7953\"],[0.7777777777777778,\"#fb9f3a\"],[0.8888888888888888,\"#fdca26\"],[1.0,\"#f0f921\"]],\"type\":\"heatmap\"}],\"histogram2dcontour\":[{\"colorbar\":{\"outlinewidth\":0,\"ticks\":\"\"},\"colorscale\":[[0.0,\"#0d0887\"],[0.1111111111111111,\"#46039f\"],[0.2222222222222222,\"#7201a8\"],[0.3333333333333333,\"#9c179e\"],[0.4444444444444444,\"#bd3786\"],[0.5555555555555556,\"#d8576b\"],[0.6666666666666666,\"#ed7953\"],[0.7777777777777778,\"#fb9f3a\"],[0.8888888888888888,\"#fdca26\"],[1.0,\"#f0f921\"]],\"type\":\"histogram2dcontour\"}],\"histogram2d\":[{\"colorbar\":{\"outlinewidth\":0,\"ticks\":\"\"},\"colorscale\":[[0.0,\"#0d0887\"],[0.1111111111111111,\"#46039f\"],[0.2222222222222222,\"#7201a8\"],[0.3333333333333333,\"#9c179e\"],[0.4444444444444444,\"#bd3786\"],[0.5555555555555556,\"#d8576b\"],[0.6666666666666666,\"#ed7953\"],[0.7777777777777778,\"#fb9f3a\"],[0.8888888888888888,\"#fdca26\"],[1.0,\"#f0f921\"]],\"type\":\"histogram2d\"}],\"histogram\":[{\"marker\":{\"pattern\":{\"fillmode\":\"overlay\",\"size\":10,\"solidity\":0.2}},\"type\":\"histogram\"}],\"mesh3d\":[{\"colorbar\":{\"outlinewidth\":0,\"ticks\":\"\"},\"type\":\"mesh3d\"}],\"parcoords\":[{\"line\":{\"colorbar\":{\"outlinewidth\":0,\"ticks\":\"\"}},\"type\":\"parcoords\"}],\"pie\":[{\"automargin\":true,\"type\":\"pie\"}],\"scatter3d\":[{\"line\":{\"colorbar\":{\"outlinewidth\":0,\"ticks\":\"\"}},\"marker\":{\"colorbar\":{\"outlinewidth\":0,\"ticks\":\"\"}},\"type\":\"scatter3d\"}],\"scattercarpet\":[{\"marker\":{\"colorbar\":{\"outlinewidth\":0,\"ticks\":\"\"}},\"type\":\"scattercarpet\"}],\"scattergeo\":[{\"marker\":{\"colorbar\":{\"outlinewidth\":0,\"ticks\":\"\"}},\"type\":\"scattergeo\"}],\"scattergl\":[{\"marker\":{\"colorbar\":{\"outlinewidth\":0,\"ticks\":\"\"}},\"type\":\"scattergl\"}],\"scattermapbox\":[{\"marker\":{\"colorbar\":{\"outlinewidth\":0,\"ticks\":\"\"}},\"type\":\"scattermapbox\"}],\"scatterpolargl\":[{\"marker\":{\"colorbar\":{\"outlinewidth\":0,\"ticks\":\"\"}},\"type\":\"scatterpolargl\"}],\"scatterpolar\":[{\"marker\":{\"colorbar\":{\"outlinewidth\":0,\"ticks\":\"\"}},\"type\":\"scatterpolar\"}],\"scatter\":[{\"fillpattern\":{\"fillmode\":\"overlay\",\"size\":10,\"solidity\":0.2},\"type\":\"scatter\"}],\"scatterternary\":[{\"marker\":{\"colorbar\":{\"outlinewidth\":0,\"ticks\":\"\"}},\"type\":\"scatterternary\"}],\"surface\":[{\"colorbar\":{\"outlinewidth\":0,\"ticks\":\"\"},\"colorscale\":[[0.0,\"#0d0887\"],[0.1111111111111111,\"#46039f\"],[0.2222222222222222,\"#7201a8\"],[0.3333333333333333,\"#9c179e\"],[0.4444444444444444,\"#bd3786\"],[0.5555555555555556,\"#d8576b\"],[0.6666666666666666,\"#ed7953\"],[0.7777777777777778,\"#fb9f3a\"],[0.8888888888888888,\"#fdca26\"],[1.0,\"#f0f921\"]],\"type\":\"surface\"}],\"table\":[{\"cells\":{\"fill\":{\"color\":\"#EBF0F8\"},\"line\":{\"color\":\"white\"}},\"header\":{\"fill\":{\"color\":\"#C8D4E3\"},\"line\":{\"color\":\"white\"}},\"type\":\"table\"}]},\"layout\":{\"annotationdefaults\":{\"arrowcolor\":\"#2a3f5f\",\"arrowhead\":0,\"arrowwidth\":1},\"autotypenumbers\":\"strict\",\"coloraxis\":{\"colorbar\":{\"outlinewidth\":0,\"ticks\":\"\"}},\"colorscale\":{\"diverging\":[[0,\"#8e0152\"],[0.1,\"#c51b7d\"],[0.2,\"#de77ae\"],[0.3,\"#f1b6da\"],[0.4,\"#fde0ef\"],[0.5,\"#f7f7f7\"],[0.6,\"#e6f5d0\"],[0.7,\"#b8e186\"],[0.8,\"#7fbc41\"],[0.9,\"#4d9221\"],[1,\"#276419\"]],\"sequential\":[[0.0,\"#0d0887\"],[0.1111111111111111,\"#46039f\"],[0.2222222222222222,\"#7201a8\"],[0.3333333333333333,\"#9c179e\"],[0.4444444444444444,\"#bd3786\"],[0.5555555555555556,\"#d8576b\"],[0.6666666666666666,\"#ed7953\"],[0.7777777777777778,\"#fb9f3a\"],[0.8888888888888888,\"#fdca26\"],[1.0,\"#f0f921\"]],\"sequentialminus\":[[0.0,\"#0d0887\"],[0.1111111111111111,\"#46039f\"],[0.2222222222222222,\"#7201a8\"],[0.3333333333333333,\"#9c179e\"],[0.4444444444444444,\"#bd3786\"],[0.5555555555555556,\"#d8576b\"],[0.6666666666666666,\"#ed7953\"],[0.7777777777777778,\"#fb9f3a\"],[0.8888888888888888,\"#fdca26\"],[1.0,\"#f0f921\"]]},\"colorway\":[\"#636efa\",\"#EF553B\",\"#00cc96\",\"#ab63fa\",\"#FFA15A\",\"#19d3f3\",\"#FF6692\",\"#B6E880\",\"#FF97FF\",\"#FECB52\"],\"font\":{\"color\":\"#2a3f5f\"},\"geo\":{\"bgcolor\":\"white\",\"lakecolor\":\"white\",\"landcolor\":\"#E5ECF6\",\"showlakes\":true,\"showland\":true,\"subunitcolor\":\"white\"},\"hoverlabel\":{\"align\":\"left\"},\"hovermode\":\"closest\",\"mapbox\":{\"style\":\"light\"},\"paper_bgcolor\":\"white\",\"plot_bgcolor\":\"#E5ECF6\",\"polar\":{\"angularaxis\":{\"gridcolor\":\"white\",\"linecolor\":\"white\",\"ticks\":\"\"},\"bgcolor\":\"#E5ECF6\",\"radialaxis\":{\"gridcolor\":\"white\",\"linecolor\":\"white\",\"ticks\":\"\"}},\"scene\":{\"xaxis\":{\"backgroundcolor\":\"#E5ECF6\",\"gridcolor\":\"white\",\"gridwidth\":2,\"linecolor\":\"white\",\"showbackground\":true,\"ticks\":\"\",\"zerolinecolor\":\"white\"},\"yaxis\":{\"backgroundcolor\":\"#E5ECF6\",\"gridcolor\":\"white\",\"gridwidth\":2,\"linecolor\":\"white\",\"showbackground\":true,\"ticks\":\"\",\"zerolinecolor\":\"white\"},\"zaxis\":{\"backgroundcolor\":\"#E5ECF6\",\"gridcolor\":\"white\",\"gridwidth\":2,\"linecolor\":\"white\",\"showbackground\":true,\"ticks\":\"\",\"zerolinecolor\":\"white\"}},\"shapedefaults\":{\"line\":{\"color\":\"#2a3f5f\"}},\"ternary\":{\"aaxis\":{\"gridcolor\":\"white\",\"linecolor\":\"white\",\"ticks\":\"\"},\"baxis\":{\"gridcolor\":\"white\",\"linecolor\":\"white\",\"ticks\":\"\"},\"bgcolor\":\"#E5ECF6\",\"caxis\":{\"gridcolor\":\"white\",\"linecolor\":\"white\",\"ticks\":\"\"}},\"title\":{\"x\":0.05},\"xaxis\":{\"automargin\":true,\"gridcolor\":\"white\",\"linecolor\":\"white\",\"ticks\":\"\",\"title\":{\"standoff\":15},\"zerolinecolor\":\"white\",\"zerolinewidth\":2},\"yaxis\":{\"automargin\":true,\"gridcolor\":\"white\",\"linecolor\":\"white\",\"ticks\":\"\",\"title\":{\"standoff\":15},\"zerolinecolor\":\"white\",\"zerolinewidth\":2}}},\"title\":{\"text\":\"Sentence Context Space V2 rotary\"}},                        {\"responsive\": true}                    ).then(function(){\n",
              "                            \n",
              "var gd = document.getElementById('8053fc5e-37fd-4abd-a5b0-6564d615cf45');\n",
              "var x = new MutationObserver(function (mutations, observer) {{\n",
              "        var display = window.getComputedStyle(gd).display;\n",
              "        if (!display || display === 'none') {{\n",
              "            console.log([gd, 'removed!']);\n",
              "            Plotly.purge(gd);\n",
              "            observer.disconnect();\n",
              "        }}\n",
              "}});\n",
              "\n",
              "// Listen for the removal of the full notebook cells\n",
              "var notebookContainer = gd.closest('#notebook-container');\n",
              "if (notebookContainer) {{\n",
              "    x.observe(notebookContainer, {childList: true});\n",
              "}}\n",
              "\n",
              "// Listen for the clearing of the current output cell\n",
              "var outputEl = gd.closest('.output');\n",
              "if (outputEl) {{\n",
              "    x.observe(outputEl, {childList: true});\n",
              "}}\n",
              "\n",
              "                        })                };                            </script>        </div>\n",
              "</body>\n",
              "</html>"
            ]
          },
          "metadata": {}
        }
      ]
    }
  ]
}